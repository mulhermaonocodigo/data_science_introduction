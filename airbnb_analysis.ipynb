{
 "cells": [
  {
   "cell_type": "code",
   "execution_count": 17,
   "metadata": {},
   "outputs": [],
   "source": [
    "'''\n",
    "Author : maysa macedo\n",
    "'''\n",
    "import numpy as np\n",
    "import pandas as pd\n",
    "import matplotlib.pyplot as plt\n",
    "import seaborn as sns\n",
    "from collections import defaultdict\n",
    "%matplotlib inline\n"
   ]
  },
  {
   "cell_type": "code",
   "execution_count": 18,
   "metadata": {},
   "outputs": [],
   "source": [
    "'''Auxiliar funtions'''\n",
    "def removing_nan(df, columns_name):\n",
    "    '''\n",
    "    INPUT:\n",
    "    df - the pandas dataframe you want to clean\n",
    "    columns_name - list of columns for remove nan values\n",
    "    OUTPUT:\n",
    "    df - cleaned pandas dataframe \n",
    "    '''\n",
    "    for col in columns_name:\n",
    "        df = df.dropna(subset=[col], how='any')\n",
    "    return df\n",
    "\n",
    "def total_count(df, col1, col2, look_for,granularity=1.0):\n",
    "    '''\n",
    "    INPUT:\n",
    "    df - the pandas dataframe you want to search\n",
    "    col1 - the column name you want to look through\n",
    "    col2 - the column you want to count values from\n",
    "    look_for - a list of strings you want to search for in each row of df[col]\n",
    "    granularity - optional - numeric interval for possible real numbers at df\n",
    "    OUTPUT:\n",
    "    new_df - a dataframe of each look_for with the count of how often it shows up\n",
    "    '''\n",
    "    new_df = defaultdict(int)\n",
    "    #loop through list of ed types\n",
    "    for val in look_for:\n",
    "        #loop through rows\n",
    "        for idx in range(df.shape[0]):\n",
    "            #if the ed type is in the row add 1\n",
    "            # if it is a real value, than search for an interval\n",
    "            if np.isreal(val):\n",
    "                if df[col1][idx]> val-granularity and  df[col1][idx]<= val:\n",
    "                    new_df[str(val)] += int(df[col2][idx])\n",
    "            else:\n",
    "                if val in df[col1][idx]:\n",
    "                    new_df[val] += int(df[col2][idx])\n",
    "    new_df = pd.DataFrame(pd.Series(new_df)).reset_index()\n",
    "    new_df.columns = [col1, col2]\n",
    "    new_df.sort_values('count', ascending=False, inplace=True)\n",
    "    return new_df"
   ]
  },
  {
   "cell_type": "code",
   "execution_count": 19,
   "metadata": {},
   "outputs": [],
   "source": [
    "'''\n",
    "    Business Understanding\n",
    "    Are the entities hosts properly depicted by the attributes from Airbnb? How to engaged hosts in the same way from different parts of the world? \n",
    "'''\n",
    "\n",
    "# reading airbnb data from the cities Rio de Janeiro and San Diego \n",
    "df_rio = pd.read_csv('../../../imagem/airbnb/rio_de_janeiro/listings.csv.gz', compression='gzip',)\n",
    "df_diego = pd.read_csv('../../../imagem/airbnb/san_diego/listings.csv.gz', compression='gzip')\n"
   ]
  },
  {
   "cell_type": "code",
   "execution_count": 20,
   "metadata": {},
   "outputs": [
    {
     "name": "stdout",
     "output_type": "stream",
     "text": [
      "quantity of records; Rio de Janeiro: (30476, 75) -- San Diego: (12871, 75)\n"
     ]
    },
    {
     "data": {
      "text/plain": [
       "Index(['id', 'listing_url', 'scrape_id', 'last_scraped', 'source', 'name',\n",
       "       'description', 'neighborhood_overview', 'picture_url', 'host_id',\n",
       "       'host_url', 'host_name', 'host_since', 'host_location', 'host_about',\n",
       "       'host_response_time', 'host_response_rate', 'host_acceptance_rate',\n",
       "       'host_is_superhost', 'host_thumbnail_url', 'host_picture_url',\n",
       "       'host_neighbourhood', 'host_listings_count',\n",
       "       'host_total_listings_count', 'host_verifications',\n",
       "       'host_has_profile_pic', 'host_identity_verified', 'neighbourhood',\n",
       "       'neighbourhood_cleansed', 'neighbourhood_group_cleansed', 'latitude',\n",
       "       'longitude', 'property_type', 'room_type', 'accommodates', 'bathrooms',\n",
       "       'bathrooms_text', 'bedrooms', 'beds', 'amenities', 'price',\n",
       "       'minimum_nights', 'maximum_nights', 'minimum_minimum_nights',\n",
       "       'maximum_minimum_nights', 'minimum_maximum_nights',\n",
       "       'maximum_maximum_nights', 'minimum_nights_avg_ntm',\n",
       "       'maximum_nights_avg_ntm', 'calendar_updated', 'has_availability',\n",
       "       'availability_30', 'availability_60', 'availability_90',\n",
       "       'availability_365', 'calendar_last_scraped', 'number_of_reviews',\n",
       "       'number_of_reviews_ltm', 'number_of_reviews_l30d', 'first_review',\n",
       "       'last_review', 'review_scores_rating', 'review_scores_accuracy',\n",
       "       'review_scores_cleanliness', 'review_scores_checkin',\n",
       "       'review_scores_communication', 'review_scores_location',\n",
       "       'review_scores_value', 'license', 'instant_bookable',\n",
       "       'calculated_host_listings_count',\n",
       "       'calculated_host_listings_count_entire_homes',\n",
       "       'calculated_host_listings_count_private_rooms',\n",
       "       'calculated_host_listings_count_shared_rooms', 'reviews_per_month'],\n",
       "      dtype='object')"
      ]
     },
     "execution_count": 20,
     "metadata": {},
     "output_type": "execute_result"
    }
   ],
   "source": [
    "'''\n",
    "\n",
    "    Data Understanding\n",
    "\n",
    "'''\n",
    "print(\"quantity of records;\", \"Rio de Janeiro:\",df_rio.shape,'--' ,\"San Diego:\", df_diego.shape)\n",
    "df_diego.columns\n"
   ]
  },
  {
   "cell_type": "code",
   "execution_count": 21,
   "metadata": {},
   "outputs": [
    {
     "name": "stdout",
     "output_type": "stream",
     "text": [
      "Number of columns with 75% missing: Rio de Janeiro: 37 -- San Diego: 42\n",
      "Number of records missing for host_response_time column: Rio de Janeiro: 4695 -- San Diego: 1431\n",
      "Number of records missing for host_response_time column: Rio de Janeiro: 4695 -- San Diego: 1431\n",
      "Number of records missing for host_about column: Rio de Janeiro: 15825 -- San Diego: 4542\n",
      "Number of records missing for host_response_rate column: Rio de Janeiro: 4695 -- San Diego: 1431\n",
      "Number of records missing for host_acceptance_rate column: Rio de Janeiro: 3733 -- San Diego: 919\n",
      "Number of records missing for host_is_superhost column: Rio de Janeiro: 7 -- San Diego: 7\n",
      "Number of records missing for review_scores_communication column: Rio de Janeiro: 7661 -- San Diego: 1932\n"
     ]
    }
   ],
   "source": [
    "# explore missing values\n",
    "\n",
    "print(\"Number of columns with 75% missing: Rio de Janeiro:\",np.sum(np.sum(df_rio.isnull()) > .75),\"-- San Diego:\",np.sum(np.sum(df_diego.isnull()) > .75))\n",
    "print(\"Number of records missing for host_response_time column: Rio de Janeiro:\",np.sum(df_rio['host_response_time'].isnull()!=0),\"-- San Diego:\",np.sum(df_diego['host_response_time'].isnull()!=0))\n",
    "print(\"Number of records missing for host_response_time column: Rio de Janeiro:\",np.sum(df_rio['host_response_time'].isnull()!=0),\"-- San Diego:\",np.sum(df_diego['host_response_time'].isnull()!=0))\n",
    "\n",
    "print(\"Number of records missing for host_about column: Rio de Janeiro:\",np.sum(df_rio['host_about'].isnull()!=0),\"-- San Diego:\",np.sum(df_diego['host_about'].isnull()!=0))\n",
    "\n",
    "print(\"Number of records missing for host_response_rate column: Rio de Janeiro:\",np.sum(df_rio['host_response_rate'].isnull()!=0),\"-- San Diego:\",np.sum(df_diego['host_response_rate'].isnull()!=0))\n",
    "\n",
    "print(\"Number of records missing for host_acceptance_rate column: Rio de Janeiro:\",np.sum(df_rio['host_acceptance_rate'].isnull()!=0),\"-- San Diego:\",np.sum(df_diego['host_acceptance_rate'].isnull()!=0))\n",
    "\n",
    "print(\"Number of records missing for host_is_superhost column: Rio de Janeiro:\",np.sum(df_rio['host_is_superhost'].isnull()!=0),\"-- San Diego:\",np.sum(df_diego['host_is_superhost'].isnull()!=0))\n",
    "\n",
    "print(\"Number of records missing for review_scores_communication column: Rio de Janeiro:\",np.sum(df_rio['review_scores_communication'].isnull()!=0),\"-- San Diego:\",np.sum(df_diego['review_scores_communication'].isnull()!=0))\n",
    "\n",
    "\n"
   ]
  },
  {
   "cell_type": "code",
   "execution_count": 22,
   "metadata": {},
   "outputs": [],
   "source": [
    "'''\n",
    "    Prepare Data\n",
    "    \n",
    "'''\n",
    "\n",
    "# defining the columns that need to clean\n",
    "columns_name = [  'host_about',\n",
    "       'host_response_time', 'host_response_rate', 'host_acceptance_rate',\n",
    "       'host_is_superhost','review_scores_communication']\n"
   ]
  },
  {
   "cell_type": "code",
   "execution_count": 23,
   "metadata": {},
   "outputs": [],
   "source": [
    "#removing nan values\n",
    "df_diego_small = removing_nan(df_diego, columns_name)\n",
    "df_rio_small = removing_nan(df_rio, columns_name)"
   ]
  },
  {
   "cell_type": "code",
   "execution_count": 24,
   "metadata": {},
   "outputs": [
    {
     "name": "stdout",
     "output_type": "stream",
     "text": [
      "quantity of records after the missing values removal; Rio de Janeiro: (10516, 75) -- San Diego: (6714, 75)\n"
     ]
    },
    {
     "data": {
      "text/html": [
       "<div>\n",
       "<style scoped>\n",
       "    .dataframe tbody tr th:only-of-type {\n",
       "        vertical-align: middle;\n",
       "    }\n",
       "\n",
       "    .dataframe tbody tr th {\n",
       "        vertical-align: top;\n",
       "    }\n",
       "\n",
       "    .dataframe thead th {\n",
       "        text-align: right;\n",
       "    }\n",
       "</style>\n",
       "<table border=\"1\" class=\"dataframe\">\n",
       "  <thead>\n",
       "    <tr style=\"text-align: right;\">\n",
       "      <th></th>\n",
       "      <th>id</th>\n",
       "      <th>listing_url</th>\n",
       "      <th>scrape_id</th>\n",
       "      <th>last_scraped</th>\n",
       "      <th>source</th>\n",
       "      <th>name</th>\n",
       "      <th>description</th>\n",
       "      <th>neighborhood_overview</th>\n",
       "      <th>picture_url</th>\n",
       "      <th>host_id</th>\n",
       "      <th>...</th>\n",
       "      <th>review_scores_communication</th>\n",
       "      <th>review_scores_location</th>\n",
       "      <th>review_scores_value</th>\n",
       "      <th>license</th>\n",
       "      <th>instant_bookable</th>\n",
       "      <th>calculated_host_listings_count</th>\n",
       "      <th>calculated_host_listings_count_entire_homes</th>\n",
       "      <th>calculated_host_listings_count_private_rooms</th>\n",
       "      <th>calculated_host_listings_count_shared_rooms</th>\n",
       "      <th>reviews_per_month</th>\n",
       "    </tr>\n",
       "  </thead>\n",
       "  <tbody>\n",
       "    <tr>\n",
       "      <th>0</th>\n",
       "      <td>17878</td>\n",
       "      <td>https://www.airbnb.com/rooms/17878</td>\n",
       "      <td>20230328184454</td>\n",
       "      <td>2023-03-29</td>\n",
       "      <td>city scrape</td>\n",
       "      <td>Very Nice 2Br in Copacabana w. balcony, fast WiFi</td>\n",
       "      <td>Please note that elevated rates applies for Ne...</td>\n",
       "      <td>This is the one of the bests spots in Rio. Bec...</td>\n",
       "      <td>https://a0.muscache.com/pictures/65320518/3069...</td>\n",
       "      <td>68997</td>\n",
       "      <td>...</td>\n",
       "      <td>4.90</td>\n",
       "      <td>4.77</td>\n",
       "      <td>4.65</td>\n",
       "      <td>NaN</td>\n",
       "      <td>f</td>\n",
       "      <td>1</td>\n",
       "      <td>1</td>\n",
       "      <td>0</td>\n",
       "      <td>0</td>\n",
       "      <td>1.86</td>\n",
       "    </tr>\n",
       "    <tr>\n",
       "      <th>1</th>\n",
       "      <td>200568</td>\n",
       "      <td>https://www.airbnb.com/rooms/200568</td>\n",
       "      <td>20230328184454</td>\n",
       "      <td>2023-03-29</td>\n",
       "      <td>city scrape</td>\n",
       "      <td>30m of Ipa Beach e fins de semana special price !</td>\n",
       "      <td>ATENÇÃO, a eletricidade e gás são pagas pelo h...</td>\n",
       "      <td>Praia, restaurantes, boates, centros culturais...</td>\n",
       "      <td>https://a0.muscache.com/pictures/0586b774-3641...</td>\n",
       "      <td>980805</td>\n",
       "      <td>...</td>\n",
       "      <td>4.97</td>\n",
       "      <td>4.95</td>\n",
       "      <td>4.73</td>\n",
       "      <td>NaN</td>\n",
       "      <td>f</td>\n",
       "      <td>6</td>\n",
       "      <td>4</td>\n",
       "      <td>2</td>\n",
       "      <td>0</td>\n",
       "      <td>1.45</td>\n",
       "    </tr>\n",
       "    <tr>\n",
       "      <th>2</th>\n",
       "      <td>202778</td>\n",
       "      <td>https://www.airbnb.com/rooms/202778</td>\n",
       "      <td>20230328184454</td>\n",
       "      <td>2023-03-29</td>\n",
       "      <td>city scrape</td>\n",
       "      <td>Best Studio in Rio - Copacabana</td>\n",
       "      <td>If you looking to staying in a beautiful moder...</td>\n",
       "      <td>Besides Copacabana been the most famous touris...</td>\n",
       "      <td>https://a0.muscache.com/pictures/2015102/18eea...</td>\n",
       "      <td>529105</td>\n",
       "      <td>...</td>\n",
       "      <td>4.94</td>\n",
       "      <td>4.85</td>\n",
       "      <td>4.68</td>\n",
       "      <td>NaN</td>\n",
       "      <td>f</td>\n",
       "      <td>3</td>\n",
       "      <td>3</td>\n",
       "      <td>0</td>\n",
       "      <td>0</td>\n",
       "      <td>1.58</td>\n",
       "    </tr>\n",
       "    <tr>\n",
       "      <th>3</th>\n",
       "      <td>24480</td>\n",
       "      <td>https://www.airbnb.com/rooms/24480</td>\n",
       "      <td>20230328184454</td>\n",
       "      <td>2023-03-29</td>\n",
       "      <td>city scrape</td>\n",
       "      <td>Nice and cozy near Ipanema Beach, w/ home office</td>\n",
       "      <td>My studio is located in the best of Ipanema, t...</td>\n",
       "      <td>The beach, the lagoon, Ipanema is a great loca...</td>\n",
       "      <td>https://a0.muscache.com/pictures/miso/Hosting-...</td>\n",
       "      <td>99249</td>\n",
       "      <td>...</td>\n",
       "      <td>4.90</td>\n",
       "      <td>4.97</td>\n",
       "      <td>4.56</td>\n",
       "      <td>NaN</td>\n",
       "      <td>f</td>\n",
       "      <td>3</td>\n",
       "      <td>3</td>\n",
       "      <td>0</td>\n",
       "      <td>0</td>\n",
       "      <td>0.56</td>\n",
       "    </tr>\n",
       "    <tr>\n",
       "      <th>5</th>\n",
       "      <td>342874</td>\n",
       "      <td>https://www.airbnb.com/rooms/342874</td>\n",
       "      <td>20230328184454</td>\n",
       "      <td>2023-03-29</td>\n",
       "      <td>city scrape</td>\n",
       "      <td>Comfortable in Copacabana beach</td>\n",
       "      <td>&lt;b&gt;The space&lt;/b&gt;&lt;br /&gt;Excellent fit completely...</td>\n",
       "      <td>Several services around 24hrs, banks, restaura...</td>\n",
       "      <td>https://a0.muscache.com/pictures/25749494/d65a...</td>\n",
       "      <td>829630</td>\n",
       "      <td>...</td>\n",
       "      <td>4.95</td>\n",
       "      <td>4.93</td>\n",
       "      <td>4.86</td>\n",
       "      <td>NaN</td>\n",
       "      <td>f</td>\n",
       "      <td>3</td>\n",
       "      <td>3</td>\n",
       "      <td>0</td>\n",
       "      <td>0</td>\n",
       "      <td>1.19</td>\n",
       "    </tr>\n",
       "  </tbody>\n",
       "</table>\n",
       "<p>5 rows × 75 columns</p>\n",
       "</div>"
      ],
      "text/plain": [
       "       id                          listing_url       scrape_id last_scraped  \\\n",
       "0   17878   https://www.airbnb.com/rooms/17878  20230328184454   2023-03-29   \n",
       "1  200568  https://www.airbnb.com/rooms/200568  20230328184454   2023-03-29   \n",
       "2  202778  https://www.airbnb.com/rooms/202778  20230328184454   2023-03-29   \n",
       "3   24480   https://www.airbnb.com/rooms/24480  20230328184454   2023-03-29   \n",
       "5  342874  https://www.airbnb.com/rooms/342874  20230328184454   2023-03-29   \n",
       "\n",
       "        source                                               name  \\\n",
       "0  city scrape  Very Nice 2Br in Copacabana w. balcony, fast WiFi   \n",
       "1  city scrape  30m of Ipa Beach e fins de semana special price !   \n",
       "2  city scrape                    Best Studio in Rio - Copacabana   \n",
       "3  city scrape   Nice and cozy near Ipanema Beach, w/ home office   \n",
       "5  city scrape                    Comfortable in Copacabana beach   \n",
       "\n",
       "                                         description  \\\n",
       "0  Please note that elevated rates applies for Ne...   \n",
       "1  ATENÇÃO, a eletricidade e gás são pagas pelo h...   \n",
       "2  If you looking to staying in a beautiful moder...   \n",
       "3  My studio is located in the best of Ipanema, t...   \n",
       "5  <b>The space</b><br />Excellent fit completely...   \n",
       "\n",
       "                               neighborhood_overview  \\\n",
       "0  This is the one of the bests spots in Rio. Bec...   \n",
       "1  Praia, restaurantes, boates, centros culturais...   \n",
       "2  Besides Copacabana been the most famous touris...   \n",
       "3  The beach, the lagoon, Ipanema is a great loca...   \n",
       "5  Several services around 24hrs, banks, restaura...   \n",
       "\n",
       "                                         picture_url  host_id  ...  \\\n",
       "0  https://a0.muscache.com/pictures/65320518/3069...    68997  ...   \n",
       "1  https://a0.muscache.com/pictures/0586b774-3641...   980805  ...   \n",
       "2  https://a0.muscache.com/pictures/2015102/18eea...   529105  ...   \n",
       "3  https://a0.muscache.com/pictures/miso/Hosting-...    99249  ...   \n",
       "5  https://a0.muscache.com/pictures/25749494/d65a...   829630  ...   \n",
       "\n",
       "  review_scores_communication review_scores_location review_scores_value  \\\n",
       "0                        4.90                   4.77                4.65   \n",
       "1                        4.97                   4.95                4.73   \n",
       "2                        4.94                   4.85                4.68   \n",
       "3                        4.90                   4.97                4.56   \n",
       "5                        4.95                   4.93                4.86   \n",
       "\n",
       "  license instant_bookable calculated_host_listings_count  \\\n",
       "0     NaN                f                              1   \n",
       "1     NaN                f                              6   \n",
       "2     NaN                f                              3   \n",
       "3     NaN                f                              3   \n",
       "5     NaN                f                              3   \n",
       "\n",
       "  calculated_host_listings_count_entire_homes  \\\n",
       "0                                           1   \n",
       "1                                           4   \n",
       "2                                           3   \n",
       "3                                           3   \n",
       "5                                           3   \n",
       "\n",
       "  calculated_host_listings_count_private_rooms  \\\n",
       "0                                            0   \n",
       "1                                            2   \n",
       "2                                            0   \n",
       "3                                            0   \n",
       "5                                            0   \n",
       "\n",
       "  calculated_host_listings_count_shared_rooms reviews_per_month  \n",
       "0                                           0              1.86  \n",
       "1                                           0              1.45  \n",
       "2                                           0              1.58  \n",
       "3                                           0              0.56  \n",
       "5                                           0              1.19  \n",
       "\n",
       "[5 rows x 75 columns]"
      ]
     },
     "execution_count": 24,
     "metadata": {},
     "output_type": "execute_result"
    }
   ],
   "source": [
    "print(\"quantity of records after the missing values removal;\", \"Rio de Janeiro:\",df_rio_small.shape,'--' ,\"San Diego:\", df_diego_small.shape)\n",
    "\n",
    "df_rio_small.head()"
   ]
  },
  {
   "cell_type": "code",
   "execution_count": 25,
   "metadata": {},
   "outputs": [],
   "source": [
    "'''\n",
    "    Data Modeling\n",
    "    Results\n",
    "\n",
    "'''\n",
    "\n",
    "#first analysis - How long Rio hosts return a response?\n",
    "response_time_diego=  df_diego_small['host_response_time'].value_counts().reset_index() \n",
    "response_time_rio=  df_rio_small['host_response_time'].value_counts().reset_index() \n",
    "response_time_diego_values =response_time_diego.values[:][:,1]/df_diego_small.shape[0]\n",
    "response_time_rio_values =response_time_rio.values[:][:,1]/df_rio_small.shape[0]"
   ]
  },
  {
   "cell_type": "code",
   "execution_count": 26,
   "metadata": {},
   "outputs": [],
   "source": [
    "#counting the several time responses\n",
    "possible_vals =[\"within an hour\",\t\"within a few hours\",\t\"within a day\",\t\"a few days or more\"]\n",
    "study_rio = df_rio_small['host_response_time'].value_counts().reset_index()\n",
    "study_df_rio = total_count(study_rio, 'host_response_time', 'count', possible_vals)\n",
    "\n",
    "study_diego = df_diego_small['host_response_time'].value_counts().reset_index()\n",
    "study_df_diego = total_count(study_diego, 'host_response_time', 'count', possible_vals)\n",
    "\n",
    "study_df_rio.set_index('host_response_time', inplace=True)\n",
    "study_df_diego.set_index('host_response_time', inplace=True)\n",
    "\n"
   ]
  },
  {
   "cell_type": "code",
   "execution_count": 27,
   "metadata": {},
   "outputs": [],
   "source": [
    "#setting up the city\n",
    "city_diego  = ['San Diego'] * study_df_diego.shape[0]\n",
    "city_rio    = ['Rio de Janeiro'] * study_df_rio.shape[0]\n",
    "study_df_diego['city'] = city_diego\n",
    "study_df_rio['city'] = city_rio"
   ]
  },
  {
   "cell_type": "code",
   "execution_count": 28,
   "metadata": {},
   "outputs": [],
   "source": [
    "#percentage\n",
    "study_df_diego['count'] = study_df_diego['count']/study_df_diego['count'].sum()\n",
    "study_df_rio['count'] = study_df_rio['count']/study_df_rio['count'].sum()"
   ]
  },
  {
   "cell_type": "code",
   "execution_count": 29,
   "metadata": {},
   "outputs": [
    {
     "data": {
      "text/plain": [
       "Index(['count', 'city'], dtype='object')"
      ]
     },
     "execution_count": 29,
     "metadata": {},
     "output_type": "execute_result"
    }
   ],
   "source": [
    "df_first_analysis_study = pd.concat([study_df_diego,study_df_rio])\n",
    "df_first_analysis_study.rename(columns={'index': 'method'}, inplace=True)\n",
    "df_first_analysis_study.columns"
   ]
  },
  {
   "cell_type": "code",
   "execution_count": 30,
   "metadata": {},
   "outputs": [],
   "source": [
    "#creating a new column\n",
    "df_first_analysis_study['host_response_time'] = df_first_analysis_study.index"
   ]
  },
  {
   "cell_type": "code",
   "execution_count": 31,
   "metadata": {},
   "outputs": [
    {
     "data": {
      "text/html": [
       "<div>\n",
       "<style scoped>\n",
       "    .dataframe tbody tr th:only-of-type {\n",
       "        vertical-align: middle;\n",
       "    }\n",
       "\n",
       "    .dataframe tbody tr th {\n",
       "        vertical-align: top;\n",
       "    }\n",
       "\n",
       "    .dataframe thead th {\n",
       "        text-align: right;\n",
       "    }\n",
       "</style>\n",
       "<table border=\"1\" class=\"dataframe\">\n",
       "  <thead>\n",
       "    <tr style=\"text-align: right;\">\n",
       "      <th></th>\n",
       "      <th>count</th>\n",
       "      <th>city</th>\n",
       "      <th>host_response_time</th>\n",
       "    </tr>\n",
       "    <tr>\n",
       "      <th>host_response_time</th>\n",
       "      <th></th>\n",
       "      <th></th>\n",
       "      <th></th>\n",
       "    </tr>\n",
       "  </thead>\n",
       "  <tbody>\n",
       "    <tr>\n",
       "      <th>within an hour</th>\n",
       "      <td>0.835270</td>\n",
       "      <td>San Diego</td>\n",
       "      <td>within an hour</td>\n",
       "    </tr>\n",
       "    <tr>\n",
       "      <th>within a few hours</th>\n",
       "      <td>0.111558</td>\n",
       "      <td>San Diego</td>\n",
       "      <td>within a few hours</td>\n",
       "    </tr>\n",
       "    <tr>\n",
       "      <th>within a day</th>\n",
       "      <td>0.045874</td>\n",
       "      <td>San Diego</td>\n",
       "      <td>within a day</td>\n",
       "    </tr>\n",
       "    <tr>\n",
       "      <th>a few days or more</th>\n",
       "      <td>0.007298</td>\n",
       "      <td>San Diego</td>\n",
       "      <td>a few days or more</td>\n",
       "    </tr>\n",
       "    <tr>\n",
       "      <th>within an hour</th>\n",
       "      <td>0.619532</td>\n",
       "      <td>Rio de Janeiro</td>\n",
       "      <td>within an hour</td>\n",
       "    </tr>\n",
       "    <tr>\n",
       "      <th>within a few hours</th>\n",
       "      <td>0.255135</td>\n",
       "      <td>Rio de Janeiro</td>\n",
       "      <td>within a few hours</td>\n",
       "    </tr>\n",
       "    <tr>\n",
       "      <th>within a day</th>\n",
       "      <td>0.100228</td>\n",
       "      <td>Rio de Janeiro</td>\n",
       "      <td>within a day</td>\n",
       "    </tr>\n",
       "    <tr>\n",
       "      <th>a few days or more</th>\n",
       "      <td>0.025105</td>\n",
       "      <td>Rio de Janeiro</td>\n",
       "      <td>a few days or more</td>\n",
       "    </tr>\n",
       "  </tbody>\n",
       "</table>\n",
       "</div>"
      ],
      "text/plain": [
       "                       count            city  host_response_time\n",
       "host_response_time                                              \n",
       "within an hour      0.835270       San Diego      within an hour\n",
       "within a few hours  0.111558       San Diego  within a few hours\n",
       "within a day        0.045874       San Diego        within a day\n",
       "a few days or more  0.007298       San Diego  a few days or more\n",
       "within an hour      0.619532  Rio de Janeiro      within an hour\n",
       "within a few hours  0.255135  Rio de Janeiro  within a few hours\n",
       "within a day        0.100228  Rio de Janeiro        within a day\n",
       "a few days or more  0.025105  Rio de Janeiro  a few days or more"
      ]
     },
     "execution_count": 31,
     "metadata": {},
     "output_type": "execute_result"
    }
   ],
   "source": [
    "df_first_analysis_study"
   ]
  },
  {
   "cell_type": "code",
   "execution_count": 32,
   "metadata": {},
   "outputs": [
    {
     "data": {
      "text/plain": [
       "Text(0.5, 1.0, 'Host time response comparison')"
      ]
     },
     "execution_count": 32,
     "metadata": {},
     "output_type": "execute_result"
    },
    {
     "data": {
      "image/png": "[encoded data removed]",
      "text/plain": [
       "<Figure size 640x480 with 1 Axes>"
      ]
     },
     "metadata": {},
     "output_type": "display_data"
    }
   ],
   "source": [
    "ax = sns.barplot(\n",
    "    data=df_first_analysis_study,\n",
    "    x=\"host_response_time\",\n",
    "    y=\"count\",\n",
    "    hue=\"city\",\n",
    "    palette=['blue', 'gray'],\n",
    "    saturation=0.6,\n",
    ")\n",
    "ax.set_ylabel('Percentage')\n",
    "ax.set_xlabel('Time')\n",
    "ax.set_title('Host time response comparison')"
   ]
  },
  {
   "cell_type": "code",
   "execution_count": 33,
   "metadata": {},
   "outputs": [],
   "source": [
    "# second analysis - How Rio hosts are able to be a superhost? \n",
    "\n",
    "is_superhost_diego=  np.sum(df_diego_small['host_is_superhost']=='t')/df_diego_small.shape[0]\n",
    "is_superhost_rio=  np.sum(df_rio_small['host_is_superhost']=='t')/df_rio_small.shape[0]\n",
    "df_second_analysis_study = pd.DataFrame([[is_superhost_diego,'San Diego','superhost'],[is_superhost_rio,'Rio de Janeiro','superhost']],columns=['percentage','city','analysis'])"
   ]
  },
  {
   "cell_type": "code",
   "execution_count": 34,
   "metadata": {},
   "outputs": [
    {
     "data": {
      "text/html": [
       "<div>\n",
       "<style scoped>\n",
       "    .dataframe tbody tr th:only-of-type {\n",
       "        vertical-align: middle;\n",
       "    }\n",
       "\n",
       "    .dataframe tbody tr th {\n",
       "        vertical-align: top;\n",
       "    }\n",
       "\n",
       "    .dataframe thead th {\n",
       "        text-align: right;\n",
       "    }\n",
       "</style>\n",
       "<table border=\"1\" class=\"dataframe\">\n",
       "  <thead>\n",
       "    <tr style=\"text-align: right;\">\n",
       "      <th></th>\n",
       "      <th>percentage</th>\n",
       "      <th>city</th>\n",
       "      <th>analysis</th>\n",
       "    </tr>\n",
       "  </thead>\n",
       "  <tbody>\n",
       "    <tr>\n",
       "      <th>0</th>\n",
       "      <td>0.521001</td>\n",
       "      <td>San Diego</td>\n",
       "      <td>superhost</td>\n",
       "    </tr>\n",
       "    <tr>\n",
       "      <th>1</th>\n",
       "      <td>0.365348</td>\n",
       "      <td>Rio de Janeiro</td>\n",
       "      <td>superhost</td>\n",
       "    </tr>\n",
       "  </tbody>\n",
       "</table>\n",
       "</div>"
      ],
      "text/plain": [
       "   percentage            city   analysis\n",
       "0    0.521001       San Diego  superhost\n",
       "1    0.365348  Rio de Janeiro  superhost"
      ]
     },
     "execution_count": 34,
     "metadata": {},
     "output_type": "execute_result"
    }
   ],
   "source": [
    "\n",
    "df_second_analysis_study.head()"
   ]
  },
  {
   "cell_type": "code",
   "execution_count": 35,
   "metadata": {},
   "outputs": [
    {
     "data": {
      "text/plain": [
       "<matplotlib.legend.Legend at 0x7f785e1e4df0>"
      ]
     },
     "execution_count": 35,
     "metadata": {},
     "output_type": "execute_result"
    },
    {
     "data": {
      "image/png": "[encoded data removed]",
      "text/plain": [
       "<Figure size 640x480 with 1 Axes>"
      ]
     },
     "metadata": {},
     "output_type": "display_data"
    }
   ],
   "source": [
    "ax = sns.barplot(\n",
    "    data=df_second_analysis_study,\n",
    "    x=\"city\",\n",
    "    y=\"percentage\",\n",
    "    hue=\"city\",\n",
    "    palette=['blue', 'gray'],\n",
    "    saturation=0.6,\n",
    ")\n",
    "ax.set_ylabel('Percentage')\n",
    "ax.set_xlabel('City')\n",
    "ax.set_title('Superhosts')\n",
    "ax.legend([],[], frameon=False)"
   ]
  },
  {
   "cell_type": "code",
   "execution_count": 36,
   "metadata": {},
   "outputs": [
    {
     "data": {
      "text/html": [
       "<div>\n",
       "<style scoped>\n",
       "    .dataframe tbody tr th:only-of-type {\n",
       "        vertical-align: middle;\n",
       "    }\n",
       "\n",
       "    .dataframe tbody tr th {\n",
       "        vertical-align: top;\n",
       "    }\n",
       "\n",
       "    .dataframe thead th {\n",
       "        text-align: right;\n",
       "    }\n",
       "</style>\n",
       "<table border=\"1\" class=\"dataframe\">\n",
       "  <thead>\n",
       "    <tr style=\"text-align: right;\">\n",
       "      <th></th>\n",
       "      <th>percentage</th>\n",
       "      <th>city</th>\n",
       "      <th>analysis</th>\n",
       "    </tr>\n",
       "  </thead>\n",
       "  <tbody>\n",
       "    <tr>\n",
       "      <th>0</th>\n",
       "      <td>0.752160</td>\n",
       "      <td>San Diego</td>\n",
       "      <td>response rate</td>\n",
       "    </tr>\n",
       "    <tr>\n",
       "      <th>1</th>\n",
       "      <td>0.694656</td>\n",
       "      <td>Rio de Janeiro</td>\n",
       "      <td>response rate</td>\n",
       "    </tr>\n",
       "  </tbody>\n",
       "</table>\n",
       "</div>"
      ],
      "text/plain": [
       "   percentage            city       analysis\n",
       "0    0.752160       San Diego  response rate\n",
       "1    0.694656  Rio de Janeiro  response rate"
      ]
     },
     "execution_count": 36,
     "metadata": {},
     "output_type": "execute_result"
    }
   ],
   "source": [
    "# third analysis - How Rio hosts are accurate in response?\n",
    "percentage_of_host_response_rio = np.sum(df_rio_small['host_response_rate']=='100%')/df_rio_small.shape[0]\n",
    "percentage_of_host_response_diego = np.sum(df_diego_small['host_response_rate']=='100%')/df_diego_small.shape[0]\n",
    "df_third_analysis_study = pd.DataFrame([[percentage_of_host_response_diego,'San Diego','response rate'],[percentage_of_host_response_rio,'Rio de Janeiro','response rate']],columns=['percentage','city','analysis'])\n",
    "df_third_analysis_study.head()"
   ]
  },
  {
   "cell_type": "code",
   "execution_count": 37,
   "metadata": {},
   "outputs": [
    {
     "data": {
      "text/plain": [
       "<matplotlib.legend.Legend at 0x7f785df74760>"
      ]
     },
     "execution_count": 37,
     "metadata": {},
     "output_type": "execute_result"
    },
    {
     "data": {
      "image/png": "[encoded data removed]",
      "text/plain": [
       "<Figure size 640x480 with 1 Axes>"
      ]
     },
     "metadata": {},
     "output_type": "display_data"
    }
   ],
   "source": [
    "ax = sns.barplot(\n",
    "    data=df_third_analysis_study,\n",
    "    x=\"city\",\n",
    "    y=\"percentage\",\n",
    "    hue=\"city\",\n",
    "    palette=['blue', 'gray'],\n",
    "    saturation=0.6,\n",
    ")\n",
    "ax.set_ylabel('Percentage')\n",
    "ax.set_xlabel('City')\n",
    "ax.set_title('Response rate')\n",
    "ax.legend([],[], frameon=False)"
   ]
  },
  {
   "cell_type": "code",
   "execution_count": 38,
   "metadata": {},
   "outputs": [
    {
     "name": "stdout",
     "output_type": "stream",
     "text": [
      "0.6946557626473945\n",
      "0.7521596663687816\n"
     ]
    }
   ],
   "source": [
    "print(percentage_of_host_response_rio)\n",
    "print (percentage_of_host_response_diego)"
   ]
  },
  {
   "cell_type": "code",
   "execution_count": 39,
   "metadata": {},
   "outputs": [
    {
     "name": "stdout",
     "output_type": "stream",
     "text": [
      "Index(['percentage', 'city', 'analysis'], dtype='object')\n"
     ]
    },
    {
     "data": {
      "text/html": [
       "<div>\n",
       "<style scoped>\n",
       "    .dataframe tbody tr th:only-of-type {\n",
       "        vertical-align: middle;\n",
       "    }\n",
       "\n",
       "    .dataframe tbody tr th {\n",
       "        vertical-align: top;\n",
       "    }\n",
       "\n",
       "    .dataframe thead th {\n",
       "        text-align: right;\n",
       "    }\n",
       "</style>\n",
       "<table border=\"1\" class=\"dataframe\">\n",
       "  <thead>\n",
       "    <tr style=\"text-align: right;\">\n",
       "      <th></th>\n",
       "      <th>percentage</th>\n",
       "      <th>city</th>\n",
       "      <th>analysis</th>\n",
       "    </tr>\n",
       "  </thead>\n",
       "  <tbody>\n",
       "    <tr>\n",
       "      <th>0</th>\n",
       "      <td>0.752160</td>\n",
       "      <td>San Diego</td>\n",
       "      <td>response rate</td>\n",
       "    </tr>\n",
       "    <tr>\n",
       "      <th>1</th>\n",
       "      <td>0.694656</td>\n",
       "      <td>Rio de Janeiro</td>\n",
       "      <td>response rate</td>\n",
       "    </tr>\n",
       "    <tr>\n",
       "      <th>0</th>\n",
       "      <td>0.521001</td>\n",
       "      <td>San Diego</td>\n",
       "      <td>superhost</td>\n",
       "    </tr>\n",
       "    <tr>\n",
       "      <th>1</th>\n",
       "      <td>0.365348</td>\n",
       "      <td>Rio de Janeiro</td>\n",
       "      <td>superhost</td>\n",
       "    </tr>\n",
       "  </tbody>\n",
       "</table>\n",
       "</div>"
      ],
      "text/plain": [
       "   percentage            city       analysis\n",
       "0    0.752160       San Diego  response rate\n",
       "1    0.694656  Rio de Janeiro  response rate\n",
       "0    0.521001       San Diego      superhost\n",
       "1    0.365348  Rio de Janeiro      superhost"
      ]
     },
     "execution_count": 39,
     "metadata": {},
     "output_type": "execute_result"
    }
   ],
   "source": [
    "df_sec_third_analysis_study = pd.concat([df_third_analysis_study,df_second_analysis_study])\n",
    "print(df_sec_third_analysis_study.columns)\n",
    "df_sec_third_analysis_study.head()"
   ]
  },
  {
   "cell_type": "code",
   "execution_count": 40,
   "metadata": {},
   "outputs": [
    {
     "data": {
      "text/plain": [
       "Text(0.5, 1.0, 'Response rate and superhost presence')"
      ]
     },
     "execution_count": 40,
     "metadata": {},
     "output_type": "execute_result"
    },
    {
     "data": {
      "image/png": "[encoded data removed]",
      "text/plain": [
       "<Figure size 640x480 with 1 Axes>"
      ]
     },
     "metadata": {},
     "output_type": "display_data"
    }
   ],
   "source": [
    "ax = sns.barplot(\n",
    "    data=df_sec_third_analysis_study,\n",
    "    x=\"analysis\",\n",
    "    y=\"percentage\",\n",
    "    hue=\"city\",\n",
    "    palette=['blue', 'gray'],\n",
    "    saturation=0.6,\n",
    ")\n",
    "ax.set_ylabel('Percentage')\n",
    "ax.set_xlabel('Analysis')\n",
    "ax.set_title('Response rate and superhost presence')\n"
   ]
  },
  {
   "cell_type": "code",
   "execution_count": 41,
   "metadata": {},
   "outputs": [
    {
     "name": "stdout",
     "output_type": "stream",
     "text": [
      "0.4794598706732598\n",
      "0.30294906166219837\n"
     ]
    }
   ],
   "source": [
    "#forth analysis Does the reviewers think the same about the hosts?\n",
    "#percentage of hosts with score 5.0 ( the maximum)\n",
    "mean_review_comm_rio = np.sum(df_rio_small['review_scores_communication']==5.00)/df_rio_small.shape[0]\n",
    "mean_review_comm_diego = np.sum(df_diego_small['review_scores_communication']==5.00)/df_diego_small.shape[0]\n",
    "print(mean_review_comm_rio)\n",
    "print(mean_review_comm_diego)\n"
   ]
  },
  {
   "cell_type": "code",
   "execution_count": 42,
   "metadata": {},
   "outputs": [
    {
     "data": {
      "text/plain": [
       "Text(0.5, 1.0, 'Review score communication comparison')"
      ]
     },
     "execution_count": 42,
     "metadata": {},
     "output_type": "execute_result"
    },
    {
     "data": {
      "image/png": "[encoded data removed]",
      "text/plain": [
       "<Figure size 640x480 with 1 Axes>"
      ]
     },
     "metadata": {},
     "output_type": "display_data"
    }
   ],
   "source": [
    "# score from 0.0 to 5.0  with 0.5 of interval\n",
    "possible_vals =[5.0, 4.5,\t4.0, 3.5,\t3.0,  2.5,\t2.0, 2.5,  1.0, 1.5, 0.0]\n",
    "study_rio = df_rio_small['review_scores_communication'].value_counts().reset_index()\n",
    "study_df_rio = total_count(study_rio, 'review_scores_communication', 'count', possible_vals,0.5)\n",
    "\n",
    "study_diego = df_diego_small['review_scores_communication'].value_counts().reset_index()\n",
    "study_df_diego = total_count(study_diego, 'review_scores_communication', 'count', possible_vals,0.5)\n",
    "\n",
    "study_df_rio.set_index('review_scores_communication', inplace=True)\n",
    "study_df_diego.set_index('review_scores_communication', inplace=True)\n",
    "\n",
    "city_diego  = ['San Diego'] * study_df_diego.shape[0]\n",
    "city_rio    = ['Rio de Janeiro'] * study_df_rio.shape[0]\n",
    "study_df_diego['city'] = city_diego\n",
    "study_df_rio['city'] = city_rio\n",
    "\n",
    "study_df_diego['count'] = study_df_diego['count']/study_df_diego['count'].sum()\n",
    "study_df_rio['count'] = study_df_rio['count']/study_df_rio['count'].sum()\n",
    "\n",
    "df_forth_analysis_study = pd.concat([study_df_diego,study_df_rio])\n",
    "df_forth_analysis_study.rename(columns={'index': 'method'}, inplace=True)\n",
    "\n",
    "df_forth_analysis_study['review_scores_communication'] = df_forth_analysis_study.index\n",
    "\n",
    "ax = sns.barplot(\n",
    "    data=df_forth_analysis_study,\n",
    "    x=\"review_scores_communication\",\n",
    "    y=\"count\",\n",
    "    hue=\"city\",\n",
    "    palette=['blue', 'gray'],\n",
    "    saturation=0.6,\n",
    ")\n",
    "ax.set_ylabel('Percentage')\n",
    "ax.set_xlabel('Time')\n",
    "ax.set_title('Review score communication comparison')"
   ]
  },
  {
   "cell_type": "code",
   "execution_count": 43,
   "metadata": {},
   "outputs": [
    {
     "data": {
      "text/plain": [
       "Text(0.5, 1.0, 'Review score communication comparison')"
      ]
     },
     "execution_count": 43,
     "metadata": {},
     "output_type": "execute_result"
    },
    {
     "data": {
      "image/png": "[encoded data removed]",
      "text/plain": [
       "<Figure size 640x480 with 1 Axes>"
      ]
     },
     "metadata": {},
     "output_type": "display_data"
    }
   ],
   "source": [
    "# more careful analysis between 4.0 and 5.0 score\n",
    "possible_vals =[4. , 4.1, 4.2, 4.3, 4.4, 4.5, 4.6, 4.7, 4.8, 4.9, 5. ]\n",
    "study_rio = df_rio_small['review_scores_communication'].value_counts().reset_index()\n",
    "study_df_rio = total_count(study_rio, 'review_scores_communication', 'count', possible_vals,0.05)\n",
    "\n",
    "study_diego = df_diego_small['review_scores_communication'].value_counts().reset_index()\n",
    "study_df_diego = total_count(study_diego, 'review_scores_communication', 'count', possible_vals,0.05)\n",
    "\n",
    "study_df_rio.set_index('review_scores_communication', inplace=True)\n",
    "study_df_diego.set_index('review_scores_communication', inplace=True)\n",
    "\n",
    "city_diego  = ['San Diego'] * study_df_diego.shape[0]\n",
    "city_rio    = ['Rio de Janeiro'] * study_df_rio.shape[0]\n",
    "study_df_diego['city'] = city_diego\n",
    "study_df_rio['city'] = city_rio\n",
    "\n",
    "study_df_diego['count'] = study_df_diego['count']/study_df_diego['count'].sum()\n",
    "study_df_rio['count'] = study_df_rio['count']/study_df_rio['count'].sum()\n",
    "\n",
    "df_forth_analysis_study = pd.concat([study_df_diego,study_df_rio])\n",
    "df_forth_analysis_study.rename(columns={'index': 'method'}, inplace=True)\n",
    "\n",
    "df_forth_analysis_study['review_scores_communication'] = df_forth_analysis_study.index\n",
    "\n",
    "ax = sns.barplot(\n",
    "    data=df_forth_analysis_study,\n",
    "    x=\"review_scores_communication\",\n",
    "    y=\"count\",\n",
    "    hue=\"city\",\n",
    "    palette=['blue', 'gray'],\n",
    "    saturation=0.6,\n",
    ")\n",
    "ax.set_ylabel('Percentage')\n",
    "ax.set_xlabel('Time')\n",
    "ax.set_title('Review score communication comparison')"
   ]
  },
  {
   "cell_type": "code",
   "execution_count": null,
   "metadata": {},
   "outputs": [],
   "source": []
  }
 ],
 "metadata": {
  "kernelspec": {
   "display_name": "usecaseenv",
   "language": "python",
   "name": "python3"
  },
  "language_info": {
   "codemirror_mode": {
    "name": "ipython",
    "version": 3
   },
   "file_extension": ".py",
   "mimetype": "text/x-python",
   "name": "python",
   "nbconvert_exporter": "python",
   "pygments_lexer": "ipython3",
   "version": "3.9.16"
  },
  "orig_nbformat": 4
 },
 "nbformat": 4,
 "nbformat_minor": 2
}
