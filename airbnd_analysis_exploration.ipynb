{
 "cells": [
  {
   "cell_type": "code",
   "execution_count": 2,
   "metadata": {},
   "outputs": [],
   "source": [
    "import numpy as np\n",
    "import pandas as pd\n",
    "import matplotlib.pyplot as plt\n",
    "\n",
    "%matplotlib inline\n",
    "\n"
   ]
  },
  {
   "cell_type": "code",
   "execution_count": 3,
   "metadata": {},
   "outputs": [
    {
     "data": {
      "text/html": [
       "<div>\n",
       "<style scoped>\n",
       "    .dataframe tbody tr th:only-of-type {\n",
       "        vertical-align: middle;\n",
       "    }\n",
       "\n",
       "    .dataframe tbody tr th {\n",
       "        vertical-align: top;\n",
       "    }\n",
       "\n",
       "    .dataframe thead th {\n",
       "        text-align: right;\n",
       "    }\n",
       "</style>\n",
       "<table border=\"1\" class=\"dataframe\">\n",
       "  <thead>\n",
       "    <tr style=\"text-align: right;\">\n",
       "      <th></th>\n",
       "      <th>id</th>\n",
       "      <th>listing_url</th>\n",
       "      <th>scrape_id</th>\n",
       "      <th>last_scraped</th>\n",
       "      <th>source</th>\n",
       "      <th>name</th>\n",
       "      <th>description</th>\n",
       "      <th>neighborhood_overview</th>\n",
       "      <th>picture_url</th>\n",
       "      <th>host_id</th>\n",
       "      <th>...</th>\n",
       "      <th>review_scores_communication</th>\n",
       "      <th>review_scores_location</th>\n",
       "      <th>review_scores_value</th>\n",
       "      <th>license</th>\n",
       "      <th>instant_bookable</th>\n",
       "      <th>calculated_host_listings_count</th>\n",
       "      <th>calculated_host_listings_count_entire_homes</th>\n",
       "      <th>calculated_host_listings_count_private_rooms</th>\n",
       "      <th>calculated_host_listings_count_shared_rooms</th>\n",
       "      <th>reviews_per_month</th>\n",
       "    </tr>\n",
       "  </thead>\n",
       "  <tbody>\n",
       "    <tr>\n",
       "      <th>0</th>\n",
       "      <td>17878</td>\n",
       "      <td>https://www.airbnb.com/rooms/17878</td>\n",
       "      <td>20230328184454</td>\n",
       "      <td>2023-03-29</td>\n",
       "      <td>city scrape</td>\n",
       "      <td>Very Nice 2Br in Copacabana w. balcony, fast WiFi</td>\n",
       "      <td>Please note that elevated rates applies for Ne...</td>\n",
       "      <td>This is the one of the bests spots in Rio. Bec...</td>\n",
       "      <td>https://a0.muscache.com/pictures/65320518/3069...</td>\n",
       "      <td>68997</td>\n",
       "      <td>...</td>\n",
       "      <td>4.90</td>\n",
       "      <td>4.77</td>\n",
       "      <td>4.65</td>\n",
       "      <td>NaN</td>\n",
       "      <td>f</td>\n",
       "      <td>1</td>\n",
       "      <td>1</td>\n",
       "      <td>0</td>\n",
       "      <td>0</td>\n",
       "      <td>1.86</td>\n",
       "    </tr>\n",
       "    <tr>\n",
       "      <th>1</th>\n",
       "      <td>200568</td>\n",
       "      <td>https://www.airbnb.com/rooms/200568</td>\n",
       "      <td>20230328184454</td>\n",
       "      <td>2023-03-29</td>\n",
       "      <td>city scrape</td>\n",
       "      <td>30m of Ipa Beach e fins de semana special price !</td>\n",
       "      <td>ATENÇÃO, a eletricidade e gás são pagas pelo h...</td>\n",
       "      <td>Praia, restaurantes, boates, centros culturais...</td>\n",
       "      <td>https://a0.muscache.com/pictures/0586b774-3641...</td>\n",
       "      <td>980805</td>\n",
       "      <td>...</td>\n",
       "      <td>4.97</td>\n",
       "      <td>4.95</td>\n",
       "      <td>4.73</td>\n",
       "      <td>NaN</td>\n",
       "      <td>f</td>\n",
       "      <td>6</td>\n",
       "      <td>4</td>\n",
       "      <td>2</td>\n",
       "      <td>0</td>\n",
       "      <td>1.45</td>\n",
       "    </tr>\n",
       "    <tr>\n",
       "      <th>2</th>\n",
       "      <td>202778</td>\n",
       "      <td>https://www.airbnb.com/rooms/202778</td>\n",
       "      <td>20230328184454</td>\n",
       "      <td>2023-03-29</td>\n",
       "      <td>city scrape</td>\n",
       "      <td>Best Studio in Rio - Copacabana</td>\n",
       "      <td>If you looking to staying in a beautiful moder...</td>\n",
       "      <td>Besides Copacabana been the most famous touris...</td>\n",
       "      <td>https://a0.muscache.com/pictures/2015102/18eea...</td>\n",
       "      <td>529105</td>\n",
       "      <td>...</td>\n",
       "      <td>4.94</td>\n",
       "      <td>4.85</td>\n",
       "      <td>4.68</td>\n",
       "      <td>NaN</td>\n",
       "      <td>f</td>\n",
       "      <td>3</td>\n",
       "      <td>3</td>\n",
       "      <td>0</td>\n",
       "      <td>0</td>\n",
       "      <td>1.58</td>\n",
       "    </tr>\n",
       "    <tr>\n",
       "      <th>3</th>\n",
       "      <td>24480</td>\n",
       "      <td>https://www.airbnb.com/rooms/24480</td>\n",
       "      <td>20230328184454</td>\n",
       "      <td>2023-03-29</td>\n",
       "      <td>city scrape</td>\n",
       "      <td>Nice and cozy near Ipanema Beach, w/ home office</td>\n",
       "      <td>My studio is located in the best of Ipanema, t...</td>\n",
       "      <td>The beach, the lagoon, Ipanema is a great loca...</td>\n",
       "      <td>https://a0.muscache.com/pictures/miso/Hosting-...</td>\n",
       "      <td>99249</td>\n",
       "      <td>...</td>\n",
       "      <td>4.90</td>\n",
       "      <td>4.97</td>\n",
       "      <td>4.56</td>\n",
       "      <td>NaN</td>\n",
       "      <td>f</td>\n",
       "      <td>3</td>\n",
       "      <td>3</td>\n",
       "      <td>0</td>\n",
       "      <td>0</td>\n",
       "      <td>0.56</td>\n",
       "    </tr>\n",
       "    <tr>\n",
       "      <th>4</th>\n",
       "      <td>203674</td>\n",
       "      <td>https://www.airbnb.com/rooms/203674</td>\n",
       "      <td>20230328184454</td>\n",
       "      <td>2023-03-29</td>\n",
       "      <td>city scrape</td>\n",
       "      <td>IPANEMA PENTHOUSE,JACUZZI + STUNNING CRISTO VI...</td>\n",
       "      <td>RETRO CHIC IN A TRULY BREATHTAKING SETTING!&lt;br...</td>\n",
       "      <td>Ipanema is almost like a small kingdom set apa...</td>\n",
       "      <td>https://a0.muscache.com/pictures/2421b3ee-0f2e...</td>\n",
       "      <td>999125</td>\n",
       "      <td>...</td>\n",
       "      <td>4.91</td>\n",
       "      <td>4.95</td>\n",
       "      <td>4.44</td>\n",
       "      <td>NaN</td>\n",
       "      <td>f</td>\n",
       "      <td>1</td>\n",
       "      <td>1</td>\n",
       "      <td>0</td>\n",
       "      <td>0</td>\n",
       "      <td>0.36</td>\n",
       "    </tr>\n",
       "  </tbody>\n",
       "</table>\n",
       "<p>5 rows × 75 columns</p>\n",
       "</div>"
      ],
      "text/plain": [
       "       id                          listing_url       scrape_id last_scraped  \\\n",
       "0   17878   https://www.airbnb.com/rooms/17878  20230328184454   2023-03-29   \n",
       "1  200568  https://www.airbnb.com/rooms/200568  20230328184454   2023-03-29   \n",
       "2  202778  https://www.airbnb.com/rooms/202778  20230328184454   2023-03-29   \n",
       "3   24480   https://www.airbnb.com/rooms/24480  20230328184454   2023-03-29   \n",
       "4  203674  https://www.airbnb.com/rooms/203674  20230328184454   2023-03-29   \n",
       "\n",
       "        source                                               name  \\\n",
       "0  city scrape  Very Nice 2Br in Copacabana w. balcony, fast WiFi   \n",
       "1  city scrape  30m of Ipa Beach e fins de semana special price !   \n",
       "2  city scrape                    Best Studio in Rio - Copacabana   \n",
       "3  city scrape   Nice and cozy near Ipanema Beach, w/ home office   \n",
       "4  city scrape  IPANEMA PENTHOUSE,JACUZZI + STUNNING CRISTO VI...   \n",
       "\n",
       "                                         description  \\\n",
       "0  Please note that elevated rates applies for Ne...   \n",
       "1  ATENÇÃO, a eletricidade e gás são pagas pelo h...   \n",
       "2  If you looking to staying in a beautiful moder...   \n",
       "3  My studio is located in the best of Ipanema, t...   \n",
       "4  RETRO CHIC IN A TRULY BREATHTAKING SETTING!<br...   \n",
       "\n",
       "                               neighborhood_overview  \\\n",
       "0  This is the one of the bests spots in Rio. Bec...   \n",
       "1  Praia, restaurantes, boates, centros culturais...   \n",
       "2  Besides Copacabana been the most famous touris...   \n",
       "3  The beach, the lagoon, Ipanema is a great loca...   \n",
       "4  Ipanema is almost like a small kingdom set apa...   \n",
       "\n",
       "                                         picture_url  host_id  ...  \\\n",
       "0  https://a0.muscache.com/pictures/65320518/3069...    68997  ...   \n",
       "1  https://a0.muscache.com/pictures/0586b774-3641...   980805  ...   \n",
       "2  https://a0.muscache.com/pictures/2015102/18eea...   529105  ...   \n",
       "3  https://a0.muscache.com/pictures/miso/Hosting-...    99249  ...   \n",
       "4  https://a0.muscache.com/pictures/2421b3ee-0f2e...   999125  ...   \n",
       "\n",
       "  review_scores_communication review_scores_location review_scores_value  \\\n",
       "0                        4.90                   4.77                4.65   \n",
       "1                        4.97                   4.95                4.73   \n",
       "2                        4.94                   4.85                4.68   \n",
       "3                        4.90                   4.97                4.56   \n",
       "4                        4.91                   4.95                4.44   \n",
       "\n",
       "  license instant_bookable calculated_host_listings_count  \\\n",
       "0     NaN                f                              1   \n",
       "1     NaN                f                              6   \n",
       "2     NaN                f                              3   \n",
       "3     NaN                f                              3   \n",
       "4     NaN                f                              1   \n",
       "\n",
       "  calculated_host_listings_count_entire_homes  \\\n",
       "0                                           1   \n",
       "1                                           4   \n",
       "2                                           3   \n",
       "3                                           3   \n",
       "4                                           1   \n",
       "\n",
       "  calculated_host_listings_count_private_rooms  \\\n",
       "0                                            0   \n",
       "1                                            2   \n",
       "2                                            0   \n",
       "3                                            0   \n",
       "4                                            0   \n",
       "\n",
       "  calculated_host_listings_count_shared_rooms reviews_per_month  \n",
       "0                                           0              1.86  \n",
       "1                                           0              1.45  \n",
       "2                                           0              1.58  \n",
       "3                                           0              0.56  \n",
       "4                                           0              0.36  \n",
       "\n",
       "[5 rows x 75 columns]"
      ]
     },
     "execution_count": 3,
     "metadata": {},
     "output_type": "execute_result"
    }
   ],
   "source": [
    "df_rio = pd.read_csv('../../../imagem/airbnb/rio_de_janeiro/listings.csv.gz', compression='gzip',)\n",
    "df_rio.head()\n"
   ]
  },
  {
   "cell_type": "code",
   "execution_count": 4,
   "metadata": {},
   "outputs": [
    {
     "data": {
      "text/html": [
       "<div>\n",
       "<style scoped>\n",
       "    .dataframe tbody tr th:only-of-type {\n",
       "        vertical-align: middle;\n",
       "    }\n",
       "\n",
       "    .dataframe tbody tr th {\n",
       "        vertical-align: top;\n",
       "    }\n",
       "\n",
       "    .dataframe thead th {\n",
       "        text-align: right;\n",
       "    }\n",
       "</style>\n",
       "<table border=\"1\" class=\"dataframe\">\n",
       "  <thead>\n",
       "    <tr style=\"text-align: right;\">\n",
       "      <th></th>\n",
       "      <th>id</th>\n",
       "      <th>listing_url</th>\n",
       "      <th>scrape_id</th>\n",
       "      <th>last_scraped</th>\n",
       "      <th>source</th>\n",
       "      <th>name</th>\n",
       "      <th>description</th>\n",
       "      <th>neighborhood_overview</th>\n",
       "      <th>picture_url</th>\n",
       "      <th>host_id</th>\n",
       "      <th>...</th>\n",
       "      <th>review_scores_communication</th>\n",
       "      <th>review_scores_location</th>\n",
       "      <th>review_scores_value</th>\n",
       "      <th>license</th>\n",
       "      <th>instant_bookable</th>\n",
       "      <th>calculated_host_listings_count</th>\n",
       "      <th>calculated_host_listings_count_entire_homes</th>\n",
       "      <th>calculated_host_listings_count_private_rooms</th>\n",
       "      <th>calculated_host_listings_count_shared_rooms</th>\n",
       "      <th>reviews_per_month</th>\n",
       "    </tr>\n",
       "  </thead>\n",
       "  <tbody>\n",
       "    <tr>\n",
       "      <th>0</th>\n",
       "      <td>610920</td>\n",
       "      <td>https://www.airbnb.com/rooms/610920</td>\n",
       "      <td>20230324234210</td>\n",
       "      <td>2023-03-25</td>\n",
       "      <td>city scrape</td>\n",
       "      <td>La Jolla Beach Beauty ~ 3bd/2ba walk to beach/...</td>\n",
       "      <td>Perfect for family vacations or a romantic get...</td>\n",
       "      <td>Bird Rock Village... shops, restaurants, coffe...</td>\n",
       "      <td>https://a0.muscache.com/pictures/54a9e30a-399a...</td>\n",
       "      <td>3028993</td>\n",
       "      <td>...</td>\n",
       "      <td>5.00</td>\n",
       "      <td>5.00</td>\n",
       "      <td>4.71</td>\n",
       "      <td>NaN</td>\n",
       "      <td>f</td>\n",
       "      <td>1</td>\n",
       "      <td>1</td>\n",
       "      <td>0</td>\n",
       "      <td>0</td>\n",
       "      <td>0.13</td>\n",
       "    </tr>\n",
       "    <tr>\n",
       "      <th>1</th>\n",
       "      <td>6</td>\n",
       "      <td>https://www.airbnb.com/rooms/6</td>\n",
       "      <td>20230324234210</td>\n",
       "      <td>2023-03-25</td>\n",
       "      <td>previous scrape</td>\n",
       "      <td>Stay in the 1st house EVER posted on Airbnb</td>\n",
       "      <td>You read that right, this craftsman home was t...</td>\n",
       "      <td>We have the best Neighborhood in San Diego, in...</td>\n",
       "      <td>https://a0.muscache.com/pictures/miso/Hosting-...</td>\n",
       "      <td>29</td>\n",
       "      <td>...</td>\n",
       "      <td>4.97</td>\n",
       "      <td>4.77</td>\n",
       "      <td>4.80</td>\n",
       "      <td>STR-04545L</td>\n",
       "      <td>f</td>\n",
       "      <td>1</td>\n",
       "      <td>1</td>\n",
       "      <td>0</td>\n",
       "      <td>0</td>\n",
       "      <td>0.85</td>\n",
       "    </tr>\n",
       "    <tr>\n",
       "      <th>2</th>\n",
       "      <td>29967</td>\n",
       "      <td>https://www.airbnb.com/rooms/29967</td>\n",
       "      <td>20230324234210</td>\n",
       "      <td>2023-03-25</td>\n",
       "      <td>city scrape</td>\n",
       "      <td>Great home, 10 min walk to Beach</td>\n",
       "      <td>This 2 bedroom, 2 full bathroom home offers al...</td>\n",
       "      <td>NaN</td>\n",
       "      <td>https://a0.muscache.com/pictures/76103867/c9b5...</td>\n",
       "      <td>129123</td>\n",
       "      <td>...</td>\n",
       "      <td>4.91</td>\n",
       "      <td>4.81</td>\n",
       "      <td>4.76</td>\n",
       "      <td>NaN</td>\n",
       "      <td>f</td>\n",
       "      <td>5</td>\n",
       "      <td>5</td>\n",
       "      <td>0</td>\n",
       "      <td>0</td>\n",
       "      <td>0.59</td>\n",
       "    </tr>\n",
       "    <tr>\n",
       "      <th>3</th>\n",
       "      <td>1166766</td>\n",
       "      <td>https://www.airbnb.com/rooms/1166766</td>\n",
       "      <td>20230324234210</td>\n",
       "      <td>2023-03-25</td>\n",
       "      <td>city scrape</td>\n",
       "      <td>Luxury Gated Mission Bay Estate</td>\n",
       "      <td>&lt;b&gt;The space&lt;/b&gt;&lt;br /&gt;Ultra luxury home, fully...</td>\n",
       "      <td>NaN</td>\n",
       "      <td>https://a0.muscache.com/pictures/d1226e08-7e26...</td>\n",
       "      <td>6388958</td>\n",
       "      <td>...</td>\n",
       "      <td>4.54</td>\n",
       "      <td>4.83</td>\n",
       "      <td>4.42</td>\n",
       "      <td>STR-00048L</td>\n",
       "      <td>f</td>\n",
       "      <td>3</td>\n",
       "      <td>3</td>\n",
       "      <td>0</td>\n",
       "      <td>0</td>\n",
       "      <td>0.22</td>\n",
       "    </tr>\n",
       "    <tr>\n",
       "      <th>4</th>\n",
       "      <td>1167130</td>\n",
       "      <td>https://www.airbnb.com/rooms/1167130</td>\n",
       "      <td>20230324234210</td>\n",
       "      <td>2023-03-25</td>\n",
       "      <td>city scrape</td>\n",
       "      <td>Luxury Tuscan Estate</td>\n",
       "      <td>Welcome to the largest home close to Downtown ...</td>\n",
       "      <td>Historic Old Town.  Walking distance to numero...</td>\n",
       "      <td>https://a0.muscache.com/pictures/32076565/bef6...</td>\n",
       "      <td>6388958</td>\n",
       "      <td>...</td>\n",
       "      <td>4.83</td>\n",
       "      <td>4.79</td>\n",
       "      <td>4.58</td>\n",
       "      <td>STR-00538L</td>\n",
       "      <td>t</td>\n",
       "      <td>3</td>\n",
       "      <td>3</td>\n",
       "      <td>0</td>\n",
       "      <td>0</td>\n",
       "      <td>0.24</td>\n",
       "    </tr>\n",
       "  </tbody>\n",
       "</table>\n",
       "<p>5 rows × 75 columns</p>\n",
       "</div>"
      ],
      "text/plain": [
       "        id                           listing_url       scrape_id last_scraped  \\\n",
       "0   610920   https://www.airbnb.com/rooms/610920  20230324234210   2023-03-25   \n",
       "1        6        https://www.airbnb.com/rooms/6  20230324234210   2023-03-25   \n",
       "2    29967    https://www.airbnb.com/rooms/29967  20230324234210   2023-03-25   \n",
       "3  1166766  https://www.airbnb.com/rooms/1166766  20230324234210   2023-03-25   \n",
       "4  1167130  https://www.airbnb.com/rooms/1167130  20230324234210   2023-03-25   \n",
       "\n",
       "            source                                               name  \\\n",
       "0      city scrape  La Jolla Beach Beauty ~ 3bd/2ba walk to beach/...   \n",
       "1  previous scrape        Stay in the 1st house EVER posted on Airbnb   \n",
       "2      city scrape                   Great home, 10 min walk to Beach   \n",
       "3      city scrape                    Luxury Gated Mission Bay Estate   \n",
       "4      city scrape                               Luxury Tuscan Estate   \n",
       "\n",
       "                                         description  \\\n",
       "0  Perfect for family vacations or a romantic get...   \n",
       "1  You read that right, this craftsman home was t...   \n",
       "2  This 2 bedroom, 2 full bathroom home offers al...   \n",
       "3  <b>The space</b><br />Ultra luxury home, fully...   \n",
       "4  Welcome to the largest home close to Downtown ...   \n",
       "\n",
       "                               neighborhood_overview  \\\n",
       "0  Bird Rock Village... shops, restaurants, coffe...   \n",
       "1  We have the best Neighborhood in San Diego, in...   \n",
       "2                                                NaN   \n",
       "3                                                NaN   \n",
       "4  Historic Old Town.  Walking distance to numero...   \n",
       "\n",
       "                                         picture_url  host_id  ...  \\\n",
       "0  https://a0.muscache.com/pictures/54a9e30a-399a...  3028993  ...   \n",
       "1  https://a0.muscache.com/pictures/miso/Hosting-...       29  ...   \n",
       "2  https://a0.muscache.com/pictures/76103867/c9b5...   129123  ...   \n",
       "3  https://a0.muscache.com/pictures/d1226e08-7e26...  6388958  ...   \n",
       "4  https://a0.muscache.com/pictures/32076565/bef6...  6388958  ...   \n",
       "\n",
       "  review_scores_communication review_scores_location review_scores_value  \\\n",
       "0                        5.00                   5.00                4.71   \n",
       "1                        4.97                   4.77                4.80   \n",
       "2                        4.91                   4.81                4.76   \n",
       "3                        4.54                   4.83                4.42   \n",
       "4                        4.83                   4.79                4.58   \n",
       "\n",
       "      license instant_bookable calculated_host_listings_count  \\\n",
       "0         NaN                f                              1   \n",
       "1  STR-04545L                f                              1   \n",
       "2         NaN                f                              5   \n",
       "3  STR-00048L                f                              3   \n",
       "4  STR-00538L                t                              3   \n",
       "\n",
       "  calculated_host_listings_count_entire_homes  \\\n",
       "0                                           1   \n",
       "1                                           1   \n",
       "2                                           5   \n",
       "3                                           3   \n",
       "4                                           3   \n",
       "\n",
       "  calculated_host_listings_count_private_rooms  \\\n",
       "0                                            0   \n",
       "1                                            0   \n",
       "2                                            0   \n",
       "3                                            0   \n",
       "4                                            0   \n",
       "\n",
       "  calculated_host_listings_count_shared_rooms reviews_per_month  \n",
       "0                                           0              0.13  \n",
       "1                                           0              0.85  \n",
       "2                                           0              0.59  \n",
       "3                                           0              0.22  \n",
       "4                                           0              0.24  \n",
       "\n",
       "[5 rows x 75 columns]"
      ]
     },
     "execution_count": 4,
     "metadata": {},
     "output_type": "execute_result"
    }
   ],
   "source": [
    "df_diego = pd.read_csv('../../../imagem/airbnb/san_diego/listings.csv.gz', compression='gzip')\n",
    "df_diego.head()"
   ]
  },
  {
   "cell_type": "code",
   "execution_count": 10,
   "metadata": {},
   "outputs": [
    {
     "data": {
      "text/plain": [
       "Index(['id', 'listing_url', 'scrape_id', 'last_scraped', 'source', 'name',\n",
       "       'description', 'neighborhood_overview', 'picture_url', 'host_id',\n",
       "       'host_url', 'host_name', 'host_since', 'host_location', 'host_about',\n",
       "       'host_response_time', 'host_response_rate', 'host_acceptance_rate',\n",
       "       'host_is_superhost', 'host_thumbnail_url', 'host_picture_url',\n",
       "       'host_neighbourhood', 'host_listings_count',\n",
       "       'host_total_listings_count', 'host_verifications',\n",
       "       'host_has_profile_pic', 'host_identity_verified', 'neighbourhood',\n",
       "       'neighbourhood_cleansed', 'neighbourhood_group_cleansed', 'latitude',\n",
       "       'longitude', 'property_type', 'room_type', 'accommodates', 'bathrooms',\n",
       "       'bathrooms_text', 'bedrooms', 'beds', 'amenities', 'price',\n",
       "       'minimum_nights', 'maximum_nights', 'minimum_minimum_nights',\n",
       "       'maximum_minimum_nights', 'minimum_maximum_nights',\n",
       "       'maximum_maximum_nights', 'minimum_nights_avg_ntm',\n",
       "       'maximum_nights_avg_ntm', 'calendar_updated', 'has_availability',\n",
       "       'availability_30', 'availability_60', 'availability_90',\n",
       "       'availability_365', 'calendar_last_scraped', 'number_of_reviews',\n",
       "       'number_of_reviews_ltm', 'number_of_reviews_l30d', 'first_review',\n",
       "       'last_review', 'review_scores_rating', 'review_scores_accuracy',\n",
       "       'review_scores_cleanliness', 'review_scores_checkin',\n",
       "       'review_scores_communication', 'review_scores_location',\n",
       "       'review_scores_value', 'license', 'instant_bookable',\n",
       "       'calculated_host_listings_count',\n",
       "       'calculated_host_listings_count_entire_homes',\n",
       "       'calculated_host_listings_count_private_rooms',\n",
       "       'calculated_host_listings_count_shared_rooms', 'reviews_per_month'],\n",
       "      dtype='object')"
      ]
     },
     "execution_count": 10,
     "metadata": {},
     "output_type": "execute_result"
    }
   ],
   "source": [
    "df_diego.columns"
   ]
  },
  {
   "cell_type": "code",
   "execution_count": 26,
   "metadata": {},
   "outputs": [
    {
     "data": {
      "text/plain": [
       "0            within an hour\n",
       "1            within an hour\n",
       "2            within an hour\n",
       "3        within a few hours\n",
       "4                       NaN\n",
       "                ...        \n",
       "30471        within an hour\n",
       "30472        within an hour\n",
       "30473    within a few hours\n",
       "30474    within a few hours\n",
       "30475    within a few hours\n",
       "Name: host_response_time, Length: 30476, dtype: object"
      ]
     },
     "execution_count": 26,
     "metadata": {},
     "output_type": "execute_result"
    }
   ],
   "source": [
    "df_rio[\"host_response_time\"]"
   ]
  },
  {
   "cell_type": "code",
   "execution_count": 17,
   "metadata": {},
   "outputs": [
    {
     "name": "stdout",
     "output_type": "stream",
     "text": [
      "30476 -- 75\n",
      "12871 -- 75\n"
     ]
    }
   ],
   "source": [
    "print(df_rio.shape[0],\"--\",df_rio.shape[1],) #Provide the number of rows in the dataset\n",
    "print(df_diego.shape[0],\"--\",df_diego.shape[1],)"
   ]
  },
  {
   "cell_type": "code",
   "execution_count": 25,
   "metadata": {},
   "outputs": [
    {
     "data": {
      "text/plain": [
       "37"
      ]
     },
     "execution_count": 25,
     "metadata": {},
     "output_type": "execute_result"
    }
   ],
   "source": [
    "np.sum(np.sum(df_rio.isnull()) > .75)\n"
   ]
  },
  {
   "cell_type": "code",
   "execution_count": 46,
   "metadata": {},
   "outputs": [
    {
     "data": {
      "text/plain": [
       "4695"
      ]
     },
     "execution_count": 46,
     "metadata": {},
     "output_type": "execute_result"
    }
   ],
   "source": [
    "np.sum(df_rio['host_response_time'].isnull()!=0)"
   ]
  },
  {
   "cell_type": "code",
   "execution_count": 27,
   "metadata": {},
   "outputs": [
    {
     "data": {
      "text/html": [
       "<div>\n",
       "<style scoped>\n",
       "    .dataframe tbody tr th:only-of-type {\n",
       "        vertical-align: middle;\n",
       "    }\n",
       "\n",
       "    .dataframe tbody tr th {\n",
       "        vertical-align: top;\n",
       "    }\n",
       "\n",
       "    .dataframe thead th {\n",
       "        text-align: right;\n",
       "    }\n",
       "</style>\n",
       "<table border=\"1\" class=\"dataframe\">\n",
       "  <thead>\n",
       "    <tr style=\"text-align: right;\">\n",
       "      <th></th>\n",
       "      <th>host_response_time</th>\n",
       "      <th>count</th>\n",
       "    </tr>\n",
       "  </thead>\n",
       "  <tbody>\n",
       "    <tr>\n",
       "      <th>0</th>\n",
       "      <td>within an hour</td>\n",
       "      <td>14644</td>\n",
       "    </tr>\n",
       "    <tr>\n",
       "      <th>1</th>\n",
       "      <td>within a few hours</td>\n",
       "      <td>6435</td>\n",
       "    </tr>\n",
       "    <tr>\n",
       "      <th>2</th>\n",
       "      <td>within a day</td>\n",
       "      <td>3067</td>\n",
       "    </tr>\n",
       "    <tr>\n",
       "      <th>3</th>\n",
       "      <td>a few days or more</td>\n",
       "      <td>1635</td>\n",
       "    </tr>\n",
       "  </tbody>\n",
       "</table>\n",
       "</div>"
      ],
      "text/plain": [
       "   host_response_time  count\n",
       "0      within an hour  14644\n",
       "1  within a few hours   6435\n",
       "2        within a day   3067\n",
       "3  a few days or more   1635"
      ]
     },
     "execution_count": 27,
     "metadata": {},
     "output_type": "execute_result"
    }
   ],
   "source": [
    "df_rio['host_response_time'].value_counts().reset_index()"
   ]
  },
  {
   "cell_type": "code",
   "execution_count": 31,
   "metadata": {},
   "outputs": [],
   "source": [
    "valuess=  df_diego['host_response_time'].value_counts().reset_index()"
   ]
  },
  {
   "cell_type": "code",
   "execution_count": 38,
   "metadata": {},
   "outputs": [
    {
     "data": {
      "text/plain": [
       "array([0.7269054463522647, 0.10030300675938156, 0.04972418615492192,\n",
       "       0.01188718825266102], dtype=object)"
      ]
     },
     "execution_count": 38,
     "metadata": {},
     "output_type": "execute_result"
    }
   ],
   "source": [
    "valuess.values[:][:,1]/df_diego.shape[0]"
   ]
  },
  {
   "cell_type": "code",
   "execution_count": 39,
   "metadata": {},
   "outputs": [],
   "source": [
    "valuess_rio=  df_rio['host_response_time'].value_counts().reset_index()"
   ]
  },
  {
   "cell_type": "code",
   "execution_count": 40,
   "metadata": {},
   "outputs": [
    {
     "data": {
      "text/plain": [
       "array([0.4805092531828324, 0.21114975718598242, 0.1006365664785405,\n",
       "       0.05364877280483003], dtype=object)"
      ]
     },
     "execution_count": 40,
     "metadata": {},
     "output_type": "execute_result"
    }
   ],
   "source": [
    "valuess_rio.values[:][:,1]/df_rio.shape[0]"
   ]
  },
  {
   "cell_type": "code",
   "execution_count": 9,
   "metadata": {},
   "outputs": [
    {
     "data": {
      "text/plain": [
       "23.431552697204356"
      ]
     },
     "execution_count": 9,
     "metadata": {},
     "output_type": "execute_result"
    }
   ],
   "source": [
    "np.sum(df_rio[\"host_is_superhost\"]=='t')/df_rio.shape[0]*100"
   ]
  },
  {
   "cell_type": "code",
   "execution_count": 15,
   "metadata": {},
   "outputs": [
    {
     "data": {
      "text/plain": [
       "41.65954471292052"
      ]
     },
     "execution_count": 15,
     "metadata": {},
     "output_type": "execute_result"
    }
   ],
   "source": [
    "np.sum(df_diego[\"host_is_superhost\"]=='t')/df_diego.shape[0]*100"
   ]
  },
  {
   "cell_type": "code",
   "execution_count": 11,
   "metadata": {},
   "outputs": [
    {
     "data": {
      "text/plain": [
       "4"
      ]
     },
     "execution_count": 11,
     "metadata": {},
     "output_type": "execute_result"
    }
   ],
   "source": [
    "2+2"
   ]
  },
  {
   "cell_type": "code",
   "execution_count": 18,
   "metadata": {},
   "outputs": [],
   "source": [
    "def removing_nan(df, columns_name):\n",
    "    for col in columns_name:\n",
    "        df = df.dropna(subset=[col], how='any')\n",
    "    return df"
   ]
  },
  {
   "cell_type": "code",
   "execution_count": 19,
   "metadata": {},
   "outputs": [],
   "source": [
    "#removing\n",
    "\n",
    "columns_name = [  'host_about',\n",
    "       'host_response_time', 'host_response_rate', 'host_acceptance_rate',\n",
    "       'host_is_superhost']\n"
   ]
  },
  {
   "cell_type": "code",
   "execution_count": 20,
   "metadata": {},
   "outputs": [],
   "source": [
    "df_diego_small = removing_nan(df_diego, columns_name)"
   ]
  },
  {
   "cell_type": "code",
   "execution_count": 22,
   "metadata": {},
   "outputs": [
    {
     "data": {
      "text/plain": [
       "0"
      ]
     },
     "execution_count": 22,
     "metadata": {},
     "output_type": "execute_result"
    }
   ],
   "source": [
    "np.sum(df_diego_small['host_response_time'].isnull()!=0)"
   ]
  },
  {
   "cell_type": "code",
   "execution_count": 23,
   "metadata": {},
   "outputs": [],
   "source": [
    "df_rio_small = removing_nan(df_rio, columns_name)"
   ]
  },
  {
   "cell_type": "code",
   "execution_count": 26,
   "metadata": {},
   "outputs": [
    {
     "data": {
      "text/plain": [
       "0"
      ]
     },
     "execution_count": 26,
     "metadata": {},
     "output_type": "execute_result"
    }
   ],
   "source": [
    "np.sum(df_rio_small['host_response_time'].isnull()!=0)"
   ]
  },
  {
   "cell_type": "code",
   "execution_count": 27,
   "metadata": {},
   "outputs": [
    {
     "data": {
      "text/html": [
       "<div>\n",
       "<style scoped>\n",
       "    .dataframe tbody tr th:only-of-type {\n",
       "        vertical-align: middle;\n",
       "    }\n",
       "\n",
       "    .dataframe tbody tr th {\n",
       "        vertical-align: top;\n",
       "    }\n",
       "\n",
       "    .dataframe thead th {\n",
       "        text-align: right;\n",
       "    }\n",
       "</style>\n",
       "<table border=\"1\" class=\"dataframe\">\n",
       "  <thead>\n",
       "    <tr style=\"text-align: right;\">\n",
       "      <th></th>\n",
       "      <th>host_response_rate</th>\n",
       "      <th>count</th>\n",
       "    </tr>\n",
       "  </thead>\n",
       "  <tbody>\n",
       "    <tr>\n",
       "      <th>0</th>\n",
       "      <td>100%</td>\n",
       "      <td>16911</td>\n",
       "    </tr>\n",
       "    <tr>\n",
       "      <th>1</th>\n",
       "      <td>90%</td>\n",
       "      <td>1136</td>\n",
       "    </tr>\n",
       "    <tr>\n",
       "      <th>2</th>\n",
       "      <td>0%</td>\n",
       "      <td>1113</td>\n",
       "    </tr>\n",
       "    <tr>\n",
       "      <th>3</th>\n",
       "      <td>80%</td>\n",
       "      <td>622</td>\n",
       "    </tr>\n",
       "    <tr>\n",
       "      <th>4</th>\n",
       "      <td>96%</td>\n",
       "      <td>478</td>\n",
       "    </tr>\n",
       "    <tr>\n",
       "      <th>...</th>\n",
       "      <td>...</td>\n",
       "      <td>...</td>\n",
       "    </tr>\n",
       "    <tr>\n",
       "      <th>71</th>\n",
       "      <td>54%</td>\n",
       "      <td>2</td>\n",
       "    </tr>\n",
       "    <tr>\n",
       "      <th>72</th>\n",
       "      <td>53%</td>\n",
       "      <td>1</td>\n",
       "    </tr>\n",
       "    <tr>\n",
       "      <th>73</th>\n",
       "      <td>21%</td>\n",
       "      <td>1</td>\n",
       "    </tr>\n",
       "    <tr>\n",
       "      <th>74</th>\n",
       "      <td>27%</td>\n",
       "      <td>1</td>\n",
       "    </tr>\n",
       "    <tr>\n",
       "      <th>75</th>\n",
       "      <td>46%</td>\n",
       "      <td>1</td>\n",
       "    </tr>\n",
       "  </tbody>\n",
       "</table>\n",
       "<p>76 rows × 2 columns</p>\n",
       "</div>"
      ],
      "text/plain": [
       "   host_response_rate  count\n",
       "0                100%  16911\n",
       "1                 90%   1136\n",
       "2                  0%   1113\n",
       "3                 80%    622\n",
       "4                 96%    478\n",
       "..                ...    ...\n",
       "71                54%      2\n",
       "72                53%      1\n",
       "73                21%      1\n",
       "74                27%      1\n",
       "75                46%      1\n",
       "\n",
       "[76 rows x 2 columns]"
      ]
     },
     "execution_count": 27,
     "metadata": {},
     "output_type": "execute_result"
    }
   ],
   "source": [
    "df_rio['host_response_rate'].value_counts().reset_index()"
   ]
  },
  {
   "cell_type": "code",
   "execution_count": 31,
   "metadata": {},
   "outputs": [
    {
     "data": {
      "text/plain": [
       "0.6445750097924011"
      ]
     },
     "execution_count": 31,
     "metadata": {},
     "output_type": "execute_result"
    }
   ],
   "source": [
    "np.sum(df_rio_small['host_response_rate']=='100%')/df_rio_small.shape[0]"
   ]
  },
  {
   "cell_type": "code",
   "execution_count": 32,
   "metadata": {},
   "outputs": [
    {
     "data": {
      "text/plain": [
       "0.7338572364112639"
      ]
     },
     "execution_count": 32,
     "metadata": {},
     "output_type": "execute_result"
    }
   ],
   "source": [
    "np.sum(df_diego_small['host_response_rate']=='100%')/df_diego_small.shape[0]"
   ]
  },
  {
   "cell_type": "code",
   "execution_count": null,
   "metadata": {},
   "outputs": [],
   "source": []
  },
  {
   "cell_type": "code",
   "execution_count": null,
   "metadata": {},
   "outputs": [],
   "source": []
  }
 ],
 "metadata": {
  "kernelspec": {
   "display_name": "usecaseenv",
   "language": "python",
   "name": "python3"
  },
  "language_info": {
   "codemirror_mode": {
    "name": "ipython",
    "version": 3
   },
   "file_extension": ".py",
   "mimetype": "text/x-python",
   "name": "python",
   "nbconvert_exporter": "python",
   "pygments_lexer": "ipython3",
   "version": "3.9.16"
  },
  "orig_nbformat": 4
 },
 "nbformat": 4,
 "nbformat_minor": 2
}
